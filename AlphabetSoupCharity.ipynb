{
 "cells": [
  {
   "cell_type": "markdown",
   "metadata": {
    "id": "HZAvZUVx9nKV"
   },
   "source": [
    "## Preprocessing"
   ]
  },
  {
   "cell_type": "code",
   "execution_count": 1,
   "metadata": {
    "colab": {
     "base_uri": "https://localhost:8080/",
     "height": 445
    },
    "id": "U4IJq9j29nKY",
    "outputId": "8989554f-cf2d-484e-e2b9-b53149e4bbdb"
   },
   "outputs": [
    {
     "data": {
      "text/html": [
       "<div>\n",
       "<style scoped>\n",
       "    .dataframe tbody tr th:only-of-type {\n",
       "        vertical-align: middle;\n",
       "    }\n",
       "\n",
       "    .dataframe tbody tr th {\n",
       "        vertical-align: top;\n",
       "    }\n",
       "\n",
       "    .dataframe thead th {\n",
       "        text-align: right;\n",
       "    }\n",
       "</style>\n",
       "<table border=\"1\" class=\"dataframe\">\n",
       "  <thead>\n",
       "    <tr style=\"text-align: right;\">\n",
       "      <th></th>\n",
       "      <th>EIN</th>\n",
       "      <th>NAME</th>\n",
       "      <th>APPLICATION_TYPE</th>\n",
       "      <th>AFFILIATION</th>\n",
       "      <th>CLASSIFICATION</th>\n",
       "      <th>USE_CASE</th>\n",
       "      <th>ORGANIZATION</th>\n",
       "      <th>STATUS</th>\n",
       "      <th>INCOME_AMT</th>\n",
       "      <th>SPECIAL_CONSIDERATIONS</th>\n",
       "      <th>ASK_AMT</th>\n",
       "      <th>IS_SUCCESSFUL</th>\n",
       "    </tr>\n",
       "  </thead>\n",
       "  <tbody>\n",
       "    <tr>\n",
       "      <th>0</th>\n",
       "      <td>10520599</td>\n",
       "      <td>BLUE KNIGHTS MOTORCYCLE CLUB</td>\n",
       "      <td>T10</td>\n",
       "      <td>Independent</td>\n",
       "      <td>C1000</td>\n",
       "      <td>ProductDev</td>\n",
       "      <td>Association</td>\n",
       "      <td>1</td>\n",
       "      <td>0</td>\n",
       "      <td>N</td>\n",
       "      <td>5000</td>\n",
       "      <td>1</td>\n",
       "    </tr>\n",
       "    <tr>\n",
       "      <th>1</th>\n",
       "      <td>10531628</td>\n",
       "      <td>AMERICAN CHESAPEAKE CLUB CHARITABLE TR</td>\n",
       "      <td>T3</td>\n",
       "      <td>Independent</td>\n",
       "      <td>C2000</td>\n",
       "      <td>Preservation</td>\n",
       "      <td>Co-operative</td>\n",
       "      <td>1</td>\n",
       "      <td>1-9999</td>\n",
       "      <td>N</td>\n",
       "      <td>108590</td>\n",
       "      <td>1</td>\n",
       "    </tr>\n",
       "    <tr>\n",
       "      <th>2</th>\n",
       "      <td>10547893</td>\n",
       "      <td>ST CLOUD PROFESSIONAL FIREFIGHTERS</td>\n",
       "      <td>T5</td>\n",
       "      <td>CompanySponsored</td>\n",
       "      <td>C3000</td>\n",
       "      <td>ProductDev</td>\n",
       "      <td>Association</td>\n",
       "      <td>1</td>\n",
       "      <td>0</td>\n",
       "      <td>N</td>\n",
       "      <td>5000</td>\n",
       "      <td>0</td>\n",
       "    </tr>\n",
       "    <tr>\n",
       "      <th>3</th>\n",
       "      <td>10553066</td>\n",
       "      <td>SOUTHSIDE ATHLETIC ASSOCIATION</td>\n",
       "      <td>T3</td>\n",
       "      <td>CompanySponsored</td>\n",
       "      <td>C2000</td>\n",
       "      <td>Preservation</td>\n",
       "      <td>Trust</td>\n",
       "      <td>1</td>\n",
       "      <td>10000-24999</td>\n",
       "      <td>N</td>\n",
       "      <td>6692</td>\n",
       "      <td>1</td>\n",
       "    </tr>\n",
       "    <tr>\n",
       "      <th>4</th>\n",
       "      <td>10556103</td>\n",
       "      <td>GENETIC RESEARCH INSTITUTE OF THE DESERT</td>\n",
       "      <td>T3</td>\n",
       "      <td>Independent</td>\n",
       "      <td>C1000</td>\n",
       "      <td>Heathcare</td>\n",
       "      <td>Trust</td>\n",
       "      <td>1</td>\n",
       "      <td>100000-499999</td>\n",
       "      <td>N</td>\n",
       "      <td>142590</td>\n",
       "      <td>1</td>\n",
       "    </tr>\n",
       "  </tbody>\n",
       "</table>\n",
       "</div>"
      ],
      "text/plain": [
       "        EIN                                      NAME APPLICATION_TYPE  \\\n",
       "0  10520599              BLUE KNIGHTS MOTORCYCLE CLUB              T10   \n",
       "1  10531628    AMERICAN CHESAPEAKE CLUB CHARITABLE TR               T3   \n",
       "2  10547893        ST CLOUD PROFESSIONAL FIREFIGHTERS               T5   \n",
       "3  10553066            SOUTHSIDE ATHLETIC ASSOCIATION               T3   \n",
       "4  10556103  GENETIC RESEARCH INSTITUTE OF THE DESERT               T3   \n",
       "\n",
       "        AFFILIATION CLASSIFICATION      USE_CASE  ORGANIZATION  STATUS  \\\n",
       "0       Independent          C1000    ProductDev   Association       1   \n",
       "1       Independent          C2000  Preservation  Co-operative       1   \n",
       "2  CompanySponsored          C3000    ProductDev   Association       1   \n",
       "3  CompanySponsored          C2000  Preservation         Trust       1   \n",
       "4       Independent          C1000     Heathcare         Trust       1   \n",
       "\n",
       "      INCOME_AMT SPECIAL_CONSIDERATIONS  ASK_AMT  IS_SUCCESSFUL  \n",
       "0              0                      N     5000              1  \n",
       "1         1-9999                      N   108590              1  \n",
       "2              0                      N     5000              0  \n",
       "3    10000-24999                      N     6692              1  \n",
       "4  100000-499999                      N   142590              1  "
      ]
     },
     "execution_count": 1,
     "metadata": {},
     "output_type": "execute_result"
    }
   ],
   "source": [
    "# Import our dependencies\n",
    "from sklearn.model_selection import train_test_split\n",
    "from sklearn.preprocessing import StandardScaler\n",
    "import pandas as pd\n",
    "import tensorflow as tf\n",
    "\n",
    "#  Import and read the charity_data.csv.\n",
    "import pandas as pd\n",
    "application_df = pd.read_csv(\"https://static.bc-edx.com/data/dl-1-2/m21/lms/starter/charity_data.csv\")\n",
    "application_df.head()"
   ]
  },
  {
   "cell_type": "code",
   "execution_count": 2,
   "metadata": {
    "id": "0wzETK5R9nKZ"
   },
   "outputs": [],
   "source": [
    "# Drop the non-beneficial ID columns, 'EIN' and 'NAME'.\n",
    "application_df = application_df.drop(columns=[\"EIN\", \"NAME\"], axis=1)"
   ]
  },
  {
   "cell_type": "code",
   "execution_count": 3,
   "metadata": {
    "colab": {
     "base_uri": "https://localhost:8080/"
    },
    "id": "zrEn6MDn9nKa",
    "outputId": "92b19f70-87bb-4531-c5ab-138d38ba0a3c"
   },
   "outputs": [
    {
     "data": {
      "text/plain": [
       "APPLICATION_TYPE            17\n",
       "AFFILIATION                  6\n",
       "CLASSIFICATION              71\n",
       "USE_CASE                     5\n",
       "ORGANIZATION                 4\n",
       "STATUS                       2\n",
       "INCOME_AMT                   9\n",
       "SPECIAL_CONSIDERATIONS       2\n",
       "ASK_AMT                   8747\n",
       "IS_SUCCESSFUL                2\n",
       "dtype: int64"
      ]
     },
     "execution_count": 3,
     "metadata": {},
     "output_type": "execute_result"
    }
   ],
   "source": [
    "# Determine the number of unique values in each column.\n",
    "application_df.nunique()"
   ]
  },
  {
   "cell_type": "code",
   "execution_count": 4,
   "metadata": {
    "colab": {
     "base_uri": "https://localhost:8080/"
    },
    "id": "E6aGpSw_9nKa",
    "outputId": "deb1915c-4fa7-4df9-beff-345d00553599"
   },
   "outputs": [
    {
     "data": {
      "text/plain": [
       "APPLICATION_TYPE\n",
       "T3     27037\n",
       "T4      1542\n",
       "T6      1216\n",
       "T5      1173\n",
       "T19     1065\n",
       "T8       737\n",
       "T7       725\n",
       "T10      528\n",
       "T9       156\n",
       "T13       66\n",
       "T12       27\n",
       "T2        16\n",
       "T25        3\n",
       "T14        3\n",
       "T29        2\n",
       "T15        2\n",
       "T17        1\n",
       "Name: count, dtype: int64"
      ]
     },
     "execution_count": 4,
     "metadata": {},
     "output_type": "execute_result"
    }
   ],
   "source": [
    "# Look at APPLICATION_TYPE value counts for binning\n",
    "application_df[\"APPLICATION_TYPE\"].value_counts()"
   ]
  },
  {
   "cell_type": "code",
   "execution_count": 5,
   "metadata": {
    "colab": {
     "base_uri": "https://localhost:8080/"
    },
    "id": "IyykjL5j9nKb",
    "outputId": "404e944b-e968-4676-f336-cb67d857e2a3"
   },
   "outputs": [
    {
     "data": {
      "text/plain": [
       "APPLICATION_TYPE\n",
       "T3       27037\n",
       "T4        1542\n",
       "T6        1216\n",
       "T5        1173\n",
       "T19       1065\n",
       "T8         737\n",
       "T7         725\n",
       "T10        528\n",
       "Other      276\n",
       "Name: count, dtype: int64"
      ]
     },
     "execution_count": 5,
     "metadata": {},
     "output_type": "execute_result"
    }
   ],
   "source": [
    "# Choose a cutoff value and create a list of application types to be replaced\n",
    "# use the variable name `application_types_to_replace`\n",
    "application_types_to_replace = [\"T9\", \"T13\", \"66\", \"T12\", \"T2\", \"T25\", \"T14\", \"T29\", \"T15\", \"T17\"]\n",
    "\n",
    "# Replace in dataframe\n",
    "for app in application_types_to_replace:\n",
    "    application_df['APPLICATION_TYPE'] = application_df['APPLICATION_TYPE'].replace(app,\"Other\")\n",
    "\n",
    "# Check to make sure binning was successful\n",
    "application_df['APPLICATION_TYPE'].value_counts()"
   ]
  },
  {
   "cell_type": "code",
   "execution_count": 6,
   "metadata": {
    "colab": {
     "base_uri": "https://localhost:8080/"
    },
    "id": "ntlZwnbx9nKb",
    "outputId": "0b10f4a4-399b-47b0-b27c-4746707cef08"
   },
   "outputs": [
    {
     "data": {
      "text/plain": [
       "CLASSIFICATION\n",
       "C1000    17326\n",
       "C2000     6074\n",
       "C1200     4837\n",
       "C3000     1918\n",
       "C2100     1883\n",
       "         ...  \n",
       "C4120        1\n",
       "C8210        1\n",
       "C2561        1\n",
       "C4500        1\n",
       "C2150        1\n",
       "Name: count, Length: 71, dtype: int64"
      ]
     },
     "execution_count": 6,
     "metadata": {},
     "output_type": "execute_result"
    }
   ],
   "source": [
    "# Look at CLASSIFICATION value counts for binning\n",
    "application_df[\"CLASSIFICATION\"].value_counts()"
   ]
  },
  {
   "cell_type": "code",
   "execution_count": 7,
   "metadata": {
    "colab": {
     "base_uri": "https://localhost:8080/"
    },
    "id": "FrUupOBu9nKc",
    "outputId": "0e9971c3-32fc-46f4-eec6-316ce935a54f"
   },
   "outputs": [
    {
     "data": {
      "text/plain": [
       "CLASSIFICATION\n",
       "C1000    17326\n",
       "C2000     6074\n",
       "C1200     4837\n",
       "C3000     1918\n",
       "C2100     1883\n",
       "C7000      777\n",
       "C1700      287\n",
       "C4000      194\n",
       "C5000      116\n",
       "C1270      114\n",
       "C2700      104\n",
       "C2800       95\n",
       "C7100       75\n",
       "C1300       58\n",
       "C1280       50\n",
       "C1230       36\n",
       "C1400       34\n",
       "C7200       32\n",
       "C2300       32\n",
       "C1240       30\n",
       "C8000       20\n",
       "C7120       18\n",
       "C1500       16\n",
       "C1800       15\n",
       "C6000       15\n",
       "C1250       14\n",
       "C8200       11\n",
       "C1238       10\n",
       "C1278       10\n",
       "C1235        9\n",
       "C1237        9\n",
       "C7210        7\n",
       "C2400        6\n",
       "C1720        6\n",
       "C4100        6\n",
       "C1257        5\n",
       "C1600        5\n",
       "C1260        3\n",
       "C2710        3\n",
       "C0           3\n",
       "C3200        2\n",
       "C1234        2\n",
       "C1246        2\n",
       "C1267        2\n",
       "C1256        2\n",
       "Name: count, dtype: int64"
      ]
     },
     "execution_count": 7,
     "metadata": {},
     "output_type": "execute_result"
    }
   ],
   "source": [
    "# You may find it helpful to look at CLASSIFICATION value counts >1\n",
    "application_df[\"CLASSIFICATION\"].value_counts().loc[lambda x: x>1]"
   ]
  },
  {
   "cell_type": "code",
   "execution_count": 8,
   "metadata": {
    "colab": {
     "base_uri": "https://localhost:8080/"
    },
    "id": "kWBnfi2I9nKc",
    "outputId": "640b1594-7ffc-435d-89bd-2bf69a85e52c"
   },
   "outputs": [
    {
     "data": {
      "text/plain": [
       "CLASSIFICATION\n",
       "C1000    17326\n",
       "C2000     6074\n",
       "C1200     4837\n",
       "Other     2261\n",
       "C3000     1918\n",
       "C2100     1883\n",
       "Name: count, dtype: int64"
      ]
     },
     "execution_count": 8,
     "metadata": {},
     "output_type": "execute_result"
    }
   ],
   "source": [
    "# Choose a cutoff value and create a list of classifications to be replaced\n",
    "# use the variable name `classifications_to_replace`\n",
    "# since there are more to replace than to keep, we create a list of values to keep\n",
    "classifications_to_keep = [\"C1000\", \"C2000\", \"C1200\", \"C3000\", \"C2100\"]\n",
    "classifications_to_replace = application_df[~application_df['CLASSIFICATION'].isin(classifications_to_keep)]\n",
    "classifications_to_replace = classifications_to_replace['CLASSIFICATION'].value_counts().index.tolist()\n",
    "\n",
    "# Replace in dataframe\n",
    "for cls in classifications_to_replace:\n",
    "    application_df['CLASSIFICATION'] = application_df['CLASSIFICATION'].replace(cls,\"Other\")\n",
    "\n",
    "# Check to make sure binning was successful\n",
    "application_df['CLASSIFICATION'].value_counts()"
   ]
  },
  {
   "cell_type": "code",
   "execution_count": 9,
   "metadata": {
    "colab": {
     "base_uri": "https://localhost:8080/"
    },
    "id": "wB-h92in9nKd",
    "outputId": "f6d03bd1-d694-4821-9372-55ac7a1d5b1f"
   },
   "outputs": [
    {
     "name": "stdout",
     "output_type": "stream",
     "text": [
      "<class 'pandas.core.frame.DataFrame'>\n",
      "RangeIndex: 34299 entries, 0 to 34298\n",
      "Data columns (total 10 columns):\n",
      " #   Column                  Non-Null Count  Dtype \n",
      "---  ------                  --------------  ----- \n",
      " 0   APPLICATION_TYPE        34299 non-null  object\n",
      " 1   AFFILIATION             34299 non-null  object\n",
      " 2   CLASSIFICATION          34299 non-null  object\n",
      " 3   USE_CASE                34299 non-null  object\n",
      " 4   ORGANIZATION            34299 non-null  object\n",
      " 5   STATUS                  34299 non-null  int64 \n",
      " 6   INCOME_AMT              34299 non-null  object\n",
      " 7   SPECIAL_CONSIDERATIONS  34299 non-null  object\n",
      " 8   ASK_AMT                 34299 non-null  int64 \n",
      " 9   IS_SUCCESSFUL           34299 non-null  int64 \n",
      "dtypes: int64(3), object(7)\n",
      "memory usage: 2.6+ MB\n"
     ]
    }
   ],
   "source": [
    "application_df.info()"
   ]
  },
  {
   "cell_type": "code",
   "execution_count": 10,
   "metadata": {
    "id": "f08XBE889nKd"
   },
   "outputs": [],
   "source": [
    "# Convert categorical data to numeric with `pd.get_dummies`\n",
    "APPLICATION_TYPE_dummies = pd.get_dummies(application_df['APPLICATION_TYPE'], dtype=int)\n",
    "AFFILIATION_dummies = pd.get_dummies(application_df['AFFILIATION'], dtype=int)\n",
    "CLASSIFICATION_dummies = pd.get_dummies(application_df['CLASSIFICATION'], dtype=int)\n",
    "USE_CASE_dummies = pd.get_dummies(application_df['USE_CASE'], dtype=int)\n",
    "ORGANIZATION_dummies = pd.get_dummies(application_df['ORGANIZATION'], dtype=int)\n",
    "INCOME_AMT_dummies = pd.get_dummies(application_df['INCOME_AMT'], dtype=int)\n",
    "SPECIAL_CONSIDERATIONS_dummies = pd.get_dummies(application_df['SPECIAL_CONSIDERATIONS'], dtype=int)"
   ]
  },
  {
   "cell_type": "code",
   "execution_count": 11,
   "metadata": {
    "colab": {
     "base_uri": "https://localhost:8080/",
     "height": 419
    },
    "id": "Z53QrKW0FQUs",
    "outputId": "cd3b9e5d-417d-4243-e19e-572d15457412"
   },
   "outputs": [
    {
     "data": {
      "text/html": [
       "<div>\n",
       "<style scoped>\n",
       "    .dataframe tbody tr th:only-of-type {\n",
       "        vertical-align: middle;\n",
       "    }\n",
       "\n",
       "    .dataframe tbody tr th {\n",
       "        vertical-align: top;\n",
       "    }\n",
       "\n",
       "    .dataframe thead th {\n",
       "        text-align: right;\n",
       "    }\n",
       "</style>\n",
       "<table border=\"1\" class=\"dataframe\">\n",
       "  <thead>\n",
       "    <tr style=\"text-align: right;\">\n",
       "      <th></th>\n",
       "      <th>N</th>\n",
       "      <th>Y</th>\n",
       "    </tr>\n",
       "  </thead>\n",
       "  <tbody>\n",
       "    <tr>\n",
       "      <th>0</th>\n",
       "      <td>1</td>\n",
       "      <td>0</td>\n",
       "    </tr>\n",
       "    <tr>\n",
       "      <th>1</th>\n",
       "      <td>1</td>\n",
       "      <td>0</td>\n",
       "    </tr>\n",
       "    <tr>\n",
       "      <th>2</th>\n",
       "      <td>1</td>\n",
       "      <td>0</td>\n",
       "    </tr>\n",
       "    <tr>\n",
       "      <th>3</th>\n",
       "      <td>1</td>\n",
       "      <td>0</td>\n",
       "    </tr>\n",
       "    <tr>\n",
       "      <th>4</th>\n",
       "      <td>1</td>\n",
       "      <td>0</td>\n",
       "    </tr>\n",
       "    <tr>\n",
       "      <th>...</th>\n",
       "      <td>...</td>\n",
       "      <td>...</td>\n",
       "    </tr>\n",
       "    <tr>\n",
       "      <th>34294</th>\n",
       "      <td>1</td>\n",
       "      <td>0</td>\n",
       "    </tr>\n",
       "    <tr>\n",
       "      <th>34295</th>\n",
       "      <td>1</td>\n",
       "      <td>0</td>\n",
       "    </tr>\n",
       "    <tr>\n",
       "      <th>34296</th>\n",
       "      <td>1</td>\n",
       "      <td>0</td>\n",
       "    </tr>\n",
       "    <tr>\n",
       "      <th>34297</th>\n",
       "      <td>1</td>\n",
       "      <td>0</td>\n",
       "    </tr>\n",
       "    <tr>\n",
       "      <th>34298</th>\n",
       "      <td>1</td>\n",
       "      <td>0</td>\n",
       "    </tr>\n",
       "  </tbody>\n",
       "</table>\n",
       "<p>34299 rows × 2 columns</p>\n",
       "</div>"
      ],
      "text/plain": [
       "       N  Y\n",
       "0      1  0\n",
       "1      1  0\n",
       "2      1  0\n",
       "3      1  0\n",
       "4      1  0\n",
       "...   .. ..\n",
       "34294  1  0\n",
       "34295  1  0\n",
       "34296  1  0\n",
       "34297  1  0\n",
       "34298  1  0\n",
       "\n",
       "[34299 rows x 2 columns]"
      ]
     },
     "execution_count": 11,
     "metadata": {},
     "output_type": "execute_result"
    }
   ],
   "source": [
    "SPECIAL_CONSIDERATIONS_dummies"
   ]
  },
  {
   "cell_type": "code",
   "execution_count": 12,
   "metadata": {
    "id": "yLuVRUxZ9nKd"
   },
   "outputs": [],
   "source": [
    "# create 'numeric_application_df' and drop all categorical columns\n",
    "numeric_application_df = application_df.drop(columns=['APPLICATION_TYPE', 'AFFILIATION','CLASSIFICATION','USE_CASE','ORGANIZATION','INCOME_AMT','SPECIAL_CONSIDERATIONS'], axis=1)"
   ]
  },
  {
   "cell_type": "code",
   "execution_count": 13,
   "metadata": {
    "colab": {
     "base_uri": "https://localhost:8080/",
     "height": 419
    },
    "id": "2o6ksQhFFfJD",
    "outputId": "7e7a0a74-5d1f-4f1c-ed23-572c78961629"
   },
   "outputs": [
    {
     "data": {
      "text/html": [
       "<div>\n",
       "<style scoped>\n",
       "    .dataframe tbody tr th:only-of-type {\n",
       "        vertical-align: middle;\n",
       "    }\n",
       "\n",
       "    .dataframe tbody tr th {\n",
       "        vertical-align: top;\n",
       "    }\n",
       "\n",
       "    .dataframe thead th {\n",
       "        text-align: right;\n",
       "    }\n",
       "</style>\n",
       "<table border=\"1\" class=\"dataframe\">\n",
       "  <thead>\n",
       "    <tr style=\"text-align: right;\">\n",
       "      <th></th>\n",
       "      <th>STATUS</th>\n",
       "      <th>ASK_AMT</th>\n",
       "      <th>IS_SUCCESSFUL</th>\n",
       "    </tr>\n",
       "  </thead>\n",
       "  <tbody>\n",
       "    <tr>\n",
       "      <th>0</th>\n",
       "      <td>1</td>\n",
       "      <td>5000</td>\n",
       "      <td>1</td>\n",
       "    </tr>\n",
       "    <tr>\n",
       "      <th>1</th>\n",
       "      <td>1</td>\n",
       "      <td>108590</td>\n",
       "      <td>1</td>\n",
       "    </tr>\n",
       "    <tr>\n",
       "      <th>2</th>\n",
       "      <td>1</td>\n",
       "      <td>5000</td>\n",
       "      <td>0</td>\n",
       "    </tr>\n",
       "    <tr>\n",
       "      <th>3</th>\n",
       "      <td>1</td>\n",
       "      <td>6692</td>\n",
       "      <td>1</td>\n",
       "    </tr>\n",
       "    <tr>\n",
       "      <th>4</th>\n",
       "      <td>1</td>\n",
       "      <td>142590</td>\n",
       "      <td>1</td>\n",
       "    </tr>\n",
       "    <tr>\n",
       "      <th>...</th>\n",
       "      <td>...</td>\n",
       "      <td>...</td>\n",
       "      <td>...</td>\n",
       "    </tr>\n",
       "    <tr>\n",
       "      <th>34294</th>\n",
       "      <td>1</td>\n",
       "      <td>5000</td>\n",
       "      <td>0</td>\n",
       "    </tr>\n",
       "    <tr>\n",
       "      <th>34295</th>\n",
       "      <td>1</td>\n",
       "      <td>5000</td>\n",
       "      <td>0</td>\n",
       "    </tr>\n",
       "    <tr>\n",
       "      <th>34296</th>\n",
       "      <td>1</td>\n",
       "      <td>5000</td>\n",
       "      <td>0</td>\n",
       "    </tr>\n",
       "    <tr>\n",
       "      <th>34297</th>\n",
       "      <td>1</td>\n",
       "      <td>5000</td>\n",
       "      <td>1</td>\n",
       "    </tr>\n",
       "    <tr>\n",
       "      <th>34298</th>\n",
       "      <td>1</td>\n",
       "      <td>36500179</td>\n",
       "      <td>0</td>\n",
       "    </tr>\n",
       "  </tbody>\n",
       "</table>\n",
       "<p>34299 rows × 3 columns</p>\n",
       "</div>"
      ],
      "text/plain": [
       "       STATUS   ASK_AMT  IS_SUCCESSFUL\n",
       "0           1      5000              1\n",
       "1           1    108590              1\n",
       "2           1      5000              0\n",
       "3           1      6692              1\n",
       "4           1    142590              1\n",
       "...       ...       ...            ...\n",
       "34294       1      5000              0\n",
       "34295       1      5000              0\n",
       "34296       1      5000              0\n",
       "34297       1      5000              1\n",
       "34298       1  36500179              0\n",
       "\n",
       "[34299 rows x 3 columns]"
      ]
     },
     "execution_count": 13,
     "metadata": {},
     "output_type": "execute_result"
    }
   ],
   "source": [
    "numeric_application_df"
   ]
  },
  {
   "cell_type": "code",
   "execution_count": 14,
   "metadata": {
    "id": "PR3Xns8y9nKd"
   },
   "outputs": [],
   "source": [
    "# concate categorical dummies with application_df\n",
    "processed_application_df = pd.concat([numeric_application_df,APPLICATION_TYPE_dummies,AFFILIATION_dummies,CLASSIFICATION_dummies,USE_CASE_dummies,ORGANIZATION_dummies,INCOME_AMT_dummies,SPECIAL_CONSIDERATIONS_dummies], axis=1)"
   ]
  },
  {
   "cell_type": "code",
   "execution_count": 15,
   "metadata": {
    "colab": {
     "base_uri": "https://localhost:8080/",
     "height": 456
    },
    "id": "NI_XeVl_Es_P",
    "outputId": "bda487e3-7538-4e51-fa3e-0efb59ad88f1"
   },
   "outputs": [
    {
     "data": {
      "text/html": [
       "<div>\n",
       "<style scoped>\n",
       "    .dataframe tbody tr th:only-of-type {\n",
       "        vertical-align: middle;\n",
       "    }\n",
       "\n",
       "    .dataframe tbody tr th {\n",
       "        vertical-align: top;\n",
       "    }\n",
       "\n",
       "    .dataframe thead th {\n",
       "        text-align: right;\n",
       "    }\n",
       "</style>\n",
       "<table border=\"1\" class=\"dataframe\">\n",
       "  <thead>\n",
       "    <tr style=\"text-align: right;\">\n",
       "      <th></th>\n",
       "      <th>STATUS</th>\n",
       "      <th>ASK_AMT</th>\n",
       "      <th>IS_SUCCESSFUL</th>\n",
       "      <th>Other</th>\n",
       "      <th>T10</th>\n",
       "      <th>T19</th>\n",
       "      <th>T3</th>\n",
       "      <th>T4</th>\n",
       "      <th>T5</th>\n",
       "      <th>T6</th>\n",
       "      <th>...</th>\n",
       "      <th>1-9999</th>\n",
       "      <th>10000-24999</th>\n",
       "      <th>100000-499999</th>\n",
       "      <th>10M-50M</th>\n",
       "      <th>1M-5M</th>\n",
       "      <th>25000-99999</th>\n",
       "      <th>50M+</th>\n",
       "      <th>5M-10M</th>\n",
       "      <th>N</th>\n",
       "      <th>Y</th>\n",
       "    </tr>\n",
       "  </thead>\n",
       "  <tbody>\n",
       "    <tr>\n",
       "      <th>0</th>\n",
       "      <td>1</td>\n",
       "      <td>5000</td>\n",
       "      <td>1</td>\n",
       "      <td>0</td>\n",
       "      <td>1</td>\n",
       "      <td>0</td>\n",
       "      <td>0</td>\n",
       "      <td>0</td>\n",
       "      <td>0</td>\n",
       "      <td>0</td>\n",
       "      <td>...</td>\n",
       "      <td>0</td>\n",
       "      <td>0</td>\n",
       "      <td>0</td>\n",
       "      <td>0</td>\n",
       "      <td>0</td>\n",
       "      <td>0</td>\n",
       "      <td>0</td>\n",
       "      <td>0</td>\n",
       "      <td>1</td>\n",
       "      <td>0</td>\n",
       "    </tr>\n",
       "    <tr>\n",
       "      <th>1</th>\n",
       "      <td>1</td>\n",
       "      <td>108590</td>\n",
       "      <td>1</td>\n",
       "      <td>0</td>\n",
       "      <td>0</td>\n",
       "      <td>0</td>\n",
       "      <td>1</td>\n",
       "      <td>0</td>\n",
       "      <td>0</td>\n",
       "      <td>0</td>\n",
       "      <td>...</td>\n",
       "      <td>1</td>\n",
       "      <td>0</td>\n",
       "      <td>0</td>\n",
       "      <td>0</td>\n",
       "      <td>0</td>\n",
       "      <td>0</td>\n",
       "      <td>0</td>\n",
       "      <td>0</td>\n",
       "      <td>1</td>\n",
       "      <td>0</td>\n",
       "    </tr>\n",
       "    <tr>\n",
       "      <th>2</th>\n",
       "      <td>1</td>\n",
       "      <td>5000</td>\n",
       "      <td>0</td>\n",
       "      <td>0</td>\n",
       "      <td>0</td>\n",
       "      <td>0</td>\n",
       "      <td>0</td>\n",
       "      <td>0</td>\n",
       "      <td>1</td>\n",
       "      <td>0</td>\n",
       "      <td>...</td>\n",
       "      <td>0</td>\n",
       "      <td>0</td>\n",
       "      <td>0</td>\n",
       "      <td>0</td>\n",
       "      <td>0</td>\n",
       "      <td>0</td>\n",
       "      <td>0</td>\n",
       "      <td>0</td>\n",
       "      <td>1</td>\n",
       "      <td>0</td>\n",
       "    </tr>\n",
       "    <tr>\n",
       "      <th>3</th>\n",
       "      <td>1</td>\n",
       "      <td>6692</td>\n",
       "      <td>1</td>\n",
       "      <td>0</td>\n",
       "      <td>0</td>\n",
       "      <td>0</td>\n",
       "      <td>1</td>\n",
       "      <td>0</td>\n",
       "      <td>0</td>\n",
       "      <td>0</td>\n",
       "      <td>...</td>\n",
       "      <td>0</td>\n",
       "      <td>1</td>\n",
       "      <td>0</td>\n",
       "      <td>0</td>\n",
       "      <td>0</td>\n",
       "      <td>0</td>\n",
       "      <td>0</td>\n",
       "      <td>0</td>\n",
       "      <td>1</td>\n",
       "      <td>0</td>\n",
       "    </tr>\n",
       "    <tr>\n",
       "      <th>4</th>\n",
       "      <td>1</td>\n",
       "      <td>142590</td>\n",
       "      <td>1</td>\n",
       "      <td>0</td>\n",
       "      <td>0</td>\n",
       "      <td>0</td>\n",
       "      <td>1</td>\n",
       "      <td>0</td>\n",
       "      <td>0</td>\n",
       "      <td>0</td>\n",
       "      <td>...</td>\n",
       "      <td>0</td>\n",
       "      <td>0</td>\n",
       "      <td>1</td>\n",
       "      <td>0</td>\n",
       "      <td>0</td>\n",
       "      <td>0</td>\n",
       "      <td>0</td>\n",
       "      <td>0</td>\n",
       "      <td>1</td>\n",
       "      <td>0</td>\n",
       "    </tr>\n",
       "    <tr>\n",
       "      <th>...</th>\n",
       "      <td>...</td>\n",
       "      <td>...</td>\n",
       "      <td>...</td>\n",
       "      <td>...</td>\n",
       "      <td>...</td>\n",
       "      <td>...</td>\n",
       "      <td>...</td>\n",
       "      <td>...</td>\n",
       "      <td>...</td>\n",
       "      <td>...</td>\n",
       "      <td>...</td>\n",
       "      <td>...</td>\n",
       "      <td>...</td>\n",
       "      <td>...</td>\n",
       "      <td>...</td>\n",
       "      <td>...</td>\n",
       "      <td>...</td>\n",
       "      <td>...</td>\n",
       "      <td>...</td>\n",
       "      <td>...</td>\n",
       "      <td>...</td>\n",
       "    </tr>\n",
       "    <tr>\n",
       "      <th>34294</th>\n",
       "      <td>1</td>\n",
       "      <td>5000</td>\n",
       "      <td>0</td>\n",
       "      <td>0</td>\n",
       "      <td>0</td>\n",
       "      <td>0</td>\n",
       "      <td>0</td>\n",
       "      <td>1</td>\n",
       "      <td>0</td>\n",
       "      <td>0</td>\n",
       "      <td>...</td>\n",
       "      <td>0</td>\n",
       "      <td>0</td>\n",
       "      <td>0</td>\n",
       "      <td>0</td>\n",
       "      <td>0</td>\n",
       "      <td>0</td>\n",
       "      <td>0</td>\n",
       "      <td>0</td>\n",
       "      <td>1</td>\n",
       "      <td>0</td>\n",
       "    </tr>\n",
       "    <tr>\n",
       "      <th>34295</th>\n",
       "      <td>1</td>\n",
       "      <td>5000</td>\n",
       "      <td>0</td>\n",
       "      <td>0</td>\n",
       "      <td>0</td>\n",
       "      <td>0</td>\n",
       "      <td>0</td>\n",
       "      <td>1</td>\n",
       "      <td>0</td>\n",
       "      <td>0</td>\n",
       "      <td>...</td>\n",
       "      <td>0</td>\n",
       "      <td>0</td>\n",
       "      <td>0</td>\n",
       "      <td>0</td>\n",
       "      <td>0</td>\n",
       "      <td>0</td>\n",
       "      <td>0</td>\n",
       "      <td>0</td>\n",
       "      <td>1</td>\n",
       "      <td>0</td>\n",
       "    </tr>\n",
       "    <tr>\n",
       "      <th>34296</th>\n",
       "      <td>1</td>\n",
       "      <td>5000</td>\n",
       "      <td>0</td>\n",
       "      <td>0</td>\n",
       "      <td>0</td>\n",
       "      <td>0</td>\n",
       "      <td>1</td>\n",
       "      <td>0</td>\n",
       "      <td>0</td>\n",
       "      <td>0</td>\n",
       "      <td>...</td>\n",
       "      <td>0</td>\n",
       "      <td>0</td>\n",
       "      <td>0</td>\n",
       "      <td>0</td>\n",
       "      <td>0</td>\n",
       "      <td>0</td>\n",
       "      <td>0</td>\n",
       "      <td>0</td>\n",
       "      <td>1</td>\n",
       "      <td>0</td>\n",
       "    </tr>\n",
       "    <tr>\n",
       "      <th>34297</th>\n",
       "      <td>1</td>\n",
       "      <td>5000</td>\n",
       "      <td>1</td>\n",
       "      <td>0</td>\n",
       "      <td>0</td>\n",
       "      <td>0</td>\n",
       "      <td>0</td>\n",
       "      <td>0</td>\n",
       "      <td>1</td>\n",
       "      <td>0</td>\n",
       "      <td>...</td>\n",
       "      <td>0</td>\n",
       "      <td>0</td>\n",
       "      <td>0</td>\n",
       "      <td>0</td>\n",
       "      <td>0</td>\n",
       "      <td>0</td>\n",
       "      <td>0</td>\n",
       "      <td>0</td>\n",
       "      <td>1</td>\n",
       "      <td>0</td>\n",
       "    </tr>\n",
       "    <tr>\n",
       "      <th>34298</th>\n",
       "      <td>1</td>\n",
       "      <td>36500179</td>\n",
       "      <td>0</td>\n",
       "      <td>0</td>\n",
       "      <td>0</td>\n",
       "      <td>0</td>\n",
       "      <td>1</td>\n",
       "      <td>0</td>\n",
       "      <td>0</td>\n",
       "      <td>0</td>\n",
       "      <td>...</td>\n",
       "      <td>0</td>\n",
       "      <td>0</td>\n",
       "      <td>0</td>\n",
       "      <td>0</td>\n",
       "      <td>1</td>\n",
       "      <td>0</td>\n",
       "      <td>0</td>\n",
       "      <td>0</td>\n",
       "      <td>1</td>\n",
       "      <td>0</td>\n",
       "    </tr>\n",
       "  </tbody>\n",
       "</table>\n",
       "<p>34299 rows × 44 columns</p>\n",
       "</div>"
      ],
      "text/plain": [
       "       STATUS   ASK_AMT  IS_SUCCESSFUL  Other  T10  T19  T3  T4  T5  T6  ...  \\\n",
       "0           1      5000              1      0    1    0   0   0   0   0  ...   \n",
       "1           1    108590              1      0    0    0   1   0   0   0  ...   \n",
       "2           1      5000              0      0    0    0   0   0   1   0  ...   \n",
       "3           1      6692              1      0    0    0   1   0   0   0  ...   \n",
       "4           1    142590              1      0    0    0   1   0   0   0  ...   \n",
       "...       ...       ...            ...    ...  ...  ...  ..  ..  ..  ..  ...   \n",
       "34294       1      5000              0      0    0    0   0   1   0   0  ...   \n",
       "34295       1      5000              0      0    0    0   0   1   0   0  ...   \n",
       "34296       1      5000              0      0    0    0   1   0   0   0  ...   \n",
       "34297       1      5000              1      0    0    0   0   0   1   0  ...   \n",
       "34298       1  36500179              0      0    0    0   1   0   0   0  ...   \n",
       "\n",
       "       1-9999  10000-24999  100000-499999  10M-50M  1M-5M  25000-99999  50M+  \\\n",
       "0           0            0              0        0      0            0     0   \n",
       "1           1            0              0        0      0            0     0   \n",
       "2           0            0              0        0      0            0     0   \n",
       "3           0            1              0        0      0            0     0   \n",
       "4           0            0              1        0      0            0     0   \n",
       "...       ...          ...            ...      ...    ...          ...   ...   \n",
       "34294       0            0              0        0      0            0     0   \n",
       "34295       0            0              0        0      0            0     0   \n",
       "34296       0            0              0        0      0            0     0   \n",
       "34297       0            0              0        0      0            0     0   \n",
       "34298       0            0              0        0      1            0     0   \n",
       "\n",
       "       5M-10M  N  Y  \n",
       "0           0  1  0  \n",
       "1           0  1  0  \n",
       "2           0  1  0  \n",
       "3           0  1  0  \n",
       "4           0  1  0  \n",
       "...       ... .. ..  \n",
       "34294       0  1  0  \n",
       "34295       0  1  0  \n",
       "34296       0  1  0  \n",
       "34297       0  1  0  \n",
       "34298       0  1  0  \n",
       "\n",
       "[34299 rows x 44 columns]"
      ]
     },
     "execution_count": 15,
     "metadata": {},
     "output_type": "execute_result"
    }
   ],
   "source": [
    "processed_application_df"
   ]
  },
  {
   "cell_type": "code",
   "execution_count": 16,
   "metadata": {
    "id": "LJOo42gE9nKe"
   },
   "outputs": [],
   "source": [
    "# Split our preprocessed data into our features and target arrays\n",
    " # features\n",
    "X = processed_application_df.drop('IS_SUCCESSFUL', axis=1)\n",
    " # target\n",
    "y = processed_application_df['IS_SUCCESSFUL']\n",
    "\n",
    "# Split the preprocessed data into a training and testing dataset\n",
    "X_train, X_test, y_train, y_test = train_test_split(X, y, random_state=78)"
   ]
  },
  {
   "cell_type": "code",
   "execution_count": 17,
   "metadata": {
    "colab": {
     "base_uri": "https://localhost:8080/"
    },
    "id": "IpRoo5UREmt8",
    "outputId": "d62b9beb-269a-42db-d2a0-f1c23f4e549d"
   },
   "outputs": [
    {
     "data": {
      "text/plain": [
       "(34299, 43)"
      ]
     },
     "execution_count": 17,
     "metadata": {},
     "output_type": "execute_result"
    }
   ],
   "source": [
    "X.shape"
   ]
  },
  {
   "cell_type": "code",
   "execution_count": 18,
   "metadata": {
    "id": "Y7UvOh5p9nKe"
   },
   "outputs": [],
   "source": [
    "# Create a StandardScaler instances\n",
    "scaler = StandardScaler()\n",
    "\n",
    "# Fit the StandardScaler\n",
    "X_scaler = scaler.fit(X_train)\n",
    "\n",
    "# Scale the data\n",
    "X_train_scaled = X_scaler.transform(X_train)\n",
    "X_test_scaled = X_scaler.transform(X_test)"
   ]
  },
  {
   "cell_type": "code",
   "execution_count": 19,
   "metadata": {
    "colab": {
     "base_uri": "https://localhost:8080/"
    },
    "id": "3VN4yYOa-xkZ",
    "outputId": "98ae5a00-8420-4a56-e419-9012823f65ba"
   },
   "outputs": [
    {
     "data": {
      "text/plain": [
       "(25724, 43)"
      ]
     },
     "execution_count": 19,
     "metadata": {},
     "output_type": "execute_result"
    }
   ],
   "source": [
    "X_train_scaled.shape"
   ]
  },
  {
   "cell_type": "markdown",
   "metadata": {
    "id": "mVF1lQqU9nKe"
   },
   "source": [
    "## Compile, Train and Evaluate the Model"
   ]
  },
  {
   "cell_type": "code",
   "execution_count": 20,
   "metadata": {
    "colab": {
     "base_uri": "https://localhost:8080/"
    },
    "id": "GnZBrw6w-PdR",
    "outputId": "492c3428-5616-4f59-9131-5c1913a56aa4"
   },
   "outputs": [
    {
     "name": "stdout",
     "output_type": "stream",
     "text": [
      "Model: \"sequential\"\n",
      "_________________________________________________________________\n",
      " Layer (type)                Output Shape              Param #   \n",
      "=================================================================\n",
      " dense (Dense)               (None, 80)                3520      \n",
      "                                                                 \n",
      " dense_1 (Dense)             (None, 30)                2430      \n",
      "                                                                 \n",
      " dense_2 (Dense)             (None, 1)                 31        \n",
      "                                                                 \n",
      "=================================================================\n",
      "Total params: 5981 (23.36 KB)\n",
      "Trainable params: 5981 (23.36 KB)\n",
      "Non-trainable params: 0 (0.00 Byte)\n",
      "_________________________________________________________________\n"
     ]
    }
   ],
   "source": [
    "# Define the model - deep neural net, i.e., the number of input features and hidden nodes for each layer.\n",
    "#  YOUR CODE GOES HERE\n",
    "\n",
    "nn = tf.keras.models.Sequential()\n",
    "\n",
    "# First hidden layer\n",
    "nn.add(tf.keras.layers.Dense(units=80, activation=\"relu\", input_dim=43))\n",
    "\n",
    "# Second hidden layer\n",
    "nn.add(tf.keras.layers.Dense(units=30, activation=\"relu\"))\n",
    "\n",
    "# Output layer\n",
    "nn.add(tf.keras.layers.Dense(units=1, activation=\"sigmoid\"))\n",
    "\n",
    "# Check the structure of the model\n",
    "nn.summary()"
   ]
  },
  {
   "cell_type": "code",
   "execution_count": 21,
   "metadata": {
    "id": "SQHmWexA9nKf"
   },
   "outputs": [],
   "source": [
    "# Compile the model\n",
    "nn.compile(loss=\"binary_crossentropy\", optimizer=\"adam\", metrics=[\"accuracy\"])"
   ]
  },
  {
   "cell_type": "code",
   "execution_count": 22,
   "metadata": {
    "colab": {
     "base_uri": "https://localhost:8080/"
    },
    "id": "3QlXgaxA9nKf",
    "outputId": "05a2ba5c-545a-48ae-d392-055903b357de"
   },
   "outputs": [
    {
     "name": "stdout",
     "output_type": "stream",
     "text": [
      "Epoch 1/100\n",
      "804/804 [==============================] - 0s 325us/step - loss: 0.5746 - accuracy: 0.7214\n",
      "Epoch 2/100\n",
      "804/804 [==============================] - 0s 308us/step - loss: 0.5564 - accuracy: 0.7311\n",
      "Epoch 3/100\n",
      "804/804 [==============================] - 0s 431us/step - loss: 0.5531 - accuracy: 0.7315\n",
      "Epoch 4/100\n",
      "804/804 [==============================] - 0s 329us/step - loss: 0.5516 - accuracy: 0.7324\n",
      "Epoch 5/100\n",
      "804/804 [==============================] - 0s 309us/step - loss: 0.5502 - accuracy: 0.7317\n",
      "Epoch 6/100\n",
      "804/804 [==============================] - 0s 302us/step - loss: 0.5491 - accuracy: 0.7327\n",
      "Epoch 7/100\n",
      "804/804 [==============================] - 0s 310us/step - loss: 0.5480 - accuracy: 0.7321\n",
      "Epoch 8/100\n",
      "804/804 [==============================] - 0s 304us/step - loss: 0.5480 - accuracy: 0.7335\n",
      "Epoch 9/100\n",
      "804/804 [==============================] - 0s 312us/step - loss: 0.5475 - accuracy: 0.7343\n",
      "Epoch 10/100\n",
      "804/804 [==============================] - 0s 316us/step - loss: 0.5466 - accuracy: 0.7346\n",
      "Epoch 11/100\n",
      "804/804 [==============================] - 0s 306us/step - loss: 0.5455 - accuracy: 0.7338\n",
      "Epoch 12/100\n",
      "804/804 [==============================] - 0s 300us/step - loss: 0.5462 - accuracy: 0.7348\n",
      "Epoch 13/100\n",
      "804/804 [==============================] - 0s 309us/step - loss: 0.5454 - accuracy: 0.7355\n",
      "Epoch 14/100\n",
      "804/804 [==============================] - 0s 335us/step - loss: 0.5451 - accuracy: 0.7346\n",
      "Epoch 15/100\n",
      "804/804 [==============================] - 0s 360us/step - loss: 0.5447 - accuracy: 0.7363\n",
      "Epoch 16/100\n",
      "804/804 [==============================] - 0s 359us/step - loss: 0.5447 - accuracy: 0.7354\n",
      "Epoch 17/100\n",
      "804/804 [==============================] - 0s 364us/step - loss: 0.5443 - accuracy: 0.7359\n",
      "Epoch 18/100\n",
      "804/804 [==============================] - 0s 369us/step - loss: 0.5439 - accuracy: 0.7362\n",
      "Epoch 19/100\n",
      "804/804 [==============================] - 0s 396us/step - loss: 0.5437 - accuracy: 0.7369\n",
      "Epoch 20/100\n",
      "804/804 [==============================] - 0s 393us/step - loss: 0.5429 - accuracy: 0.7365\n",
      "Epoch 21/100\n",
      "804/804 [==============================] - 0s 516us/step - loss: 0.5432 - accuracy: 0.7362\n",
      "Epoch 22/100\n",
      "804/804 [==============================] - 0s 377us/step - loss: 0.5427 - accuracy: 0.7376\n",
      "Epoch 23/100\n",
      "804/804 [==============================] - 0s 388us/step - loss: 0.5428 - accuracy: 0.7369\n",
      "Epoch 24/100\n",
      "804/804 [==============================] - 0s 374us/step - loss: 0.5424 - accuracy: 0.7371\n",
      "Epoch 25/100\n",
      "804/804 [==============================] - 0s 374us/step - loss: 0.5426 - accuracy: 0.7371\n",
      "Epoch 26/100\n",
      "804/804 [==============================] - 0s 372us/step - loss: 0.5414 - accuracy: 0.7376\n",
      "Epoch 27/100\n",
      "804/804 [==============================] - 0s 370us/step - loss: 0.5417 - accuracy: 0.7376\n",
      "Epoch 28/100\n",
      "804/804 [==============================] - 0s 373us/step - loss: 0.5417 - accuracy: 0.7384\n",
      "Epoch 29/100\n",
      "804/804 [==============================] - 0s 362us/step - loss: 0.5412 - accuracy: 0.7376\n",
      "Epoch 30/100\n",
      "804/804 [==============================] - 0s 392us/step - loss: 0.5417 - accuracy: 0.7378\n",
      "Epoch 31/100\n",
      "804/804 [==============================] - 0s 413us/step - loss: 0.5412 - accuracy: 0.7375\n",
      "Epoch 32/100\n",
      "804/804 [==============================] - 0s 416us/step - loss: 0.5410 - accuracy: 0.7376\n",
      "Epoch 33/100\n",
      "804/804 [==============================] - 0s 475us/step - loss: 0.5402 - accuracy: 0.7386\n",
      "Epoch 34/100\n",
      "804/804 [==============================] - 1s 624us/step - loss: 0.5410 - accuracy: 0.7390\n",
      "Epoch 35/100\n",
      "804/804 [==============================] - 0s 433us/step - loss: 0.5404 - accuracy: 0.7375\n",
      "Epoch 36/100\n",
      "804/804 [==============================] - 0s 454us/step - loss: 0.5408 - accuracy: 0.7380\n",
      "Epoch 37/100\n",
      "804/804 [==============================] - 0s 449us/step - loss: 0.5400 - accuracy: 0.7388\n",
      "Epoch 38/100\n",
      "804/804 [==============================] - 0s 468us/step - loss: 0.5399 - accuracy: 0.7379\n",
      "Epoch 39/100\n",
      "804/804 [==============================] - 0s 449us/step - loss: 0.5399 - accuracy: 0.7381\n",
      "Epoch 40/100\n",
      "804/804 [==============================] - 0s 482us/step - loss: 0.5398 - accuracy: 0.7400\n",
      "Epoch 41/100\n",
      "804/804 [==============================] - 0s 474us/step - loss: 0.5396 - accuracy: 0.7388\n",
      "Epoch 42/100\n",
      "804/804 [==============================] - 0s 458us/step - loss: 0.5405 - accuracy: 0.7384\n",
      "Epoch 43/100\n",
      "804/804 [==============================] - 0s 428us/step - loss: 0.5395 - accuracy: 0.7400\n",
      "Epoch 44/100\n",
      "804/804 [==============================] - 0s 411us/step - loss: 0.5395 - accuracy: 0.7396\n",
      "Epoch 45/100\n",
      "804/804 [==============================] - 0s 428us/step - loss: 0.5391 - accuracy: 0.7391\n",
      "Epoch 46/100\n",
      "804/804 [==============================] - 0s 521us/step - loss: 0.5392 - accuracy: 0.7392\n",
      "Epoch 47/100\n",
      "804/804 [==============================] - 0s 460us/step - loss: 0.5394 - accuracy: 0.7386\n",
      "Epoch 48/100\n",
      "804/804 [==============================] - 0s 485us/step - loss: 0.5388 - accuracy: 0.7391\n",
      "Epoch 49/100\n",
      "804/804 [==============================] - 0s 454us/step - loss: 0.5386 - accuracy: 0.7399\n",
      "Epoch 50/100\n",
      "804/804 [==============================] - 0s 449us/step - loss: 0.5388 - accuracy: 0.7397\n",
      "Epoch 51/100\n",
      "804/804 [==============================] - 0s 481us/step - loss: 0.5389 - accuracy: 0.7395\n",
      "Epoch 52/100\n",
      "804/804 [==============================] - 0s 462us/step - loss: 0.5385 - accuracy: 0.7397\n",
      "Epoch 53/100\n",
      "804/804 [==============================] - 0s 434us/step - loss: 0.5388 - accuracy: 0.7401\n",
      "Epoch 54/100\n",
      "804/804 [==============================] - 0s 441us/step - loss: 0.5388 - accuracy: 0.7404\n",
      "Epoch 55/100\n",
      "804/804 [==============================] - 0s 454us/step - loss: 0.5384 - accuracy: 0.7404\n",
      "Epoch 56/100\n",
      "804/804 [==============================] - 0s 468us/step - loss: 0.5382 - accuracy: 0.7397\n",
      "Epoch 57/100\n",
      "804/804 [==============================] - 0s 468us/step - loss: 0.5383 - accuracy: 0.7394\n",
      "Epoch 58/100\n",
      "804/804 [==============================] - 0s 472us/step - loss: 0.5381 - accuracy: 0.7405\n",
      "Epoch 59/100\n",
      "804/804 [==============================] - 0s 471us/step - loss: 0.5381 - accuracy: 0.7398\n",
      "Epoch 60/100\n",
      "804/804 [==============================] - 0s 459us/step - loss: 0.5382 - accuracy: 0.7399\n",
      "Epoch 61/100\n",
      "804/804 [==============================] - 0s 480us/step - loss: 0.5379 - accuracy: 0.7406\n",
      "Epoch 62/100\n",
      "804/804 [==============================] - 0s 471us/step - loss: 0.5380 - accuracy: 0.7405\n",
      "Epoch 63/100\n",
      "804/804 [==============================] - 0s 432us/step - loss: 0.5382 - accuracy: 0.7393\n",
      "Epoch 64/100\n",
      "804/804 [==============================] - 0s 441us/step - loss: 0.5377 - accuracy: 0.7396\n",
      "Epoch 65/100\n",
      "804/804 [==============================] - 0s 451us/step - loss: 0.5378 - accuracy: 0.7390\n",
      "Epoch 66/100\n",
      "804/804 [==============================] - 0s 470us/step - loss: 0.5378 - accuracy: 0.7399\n",
      "Epoch 67/100\n",
      "804/804 [==============================] - 0s 472us/step - loss: 0.5375 - accuracy: 0.7400\n",
      "Epoch 68/100\n",
      "804/804 [==============================] - 0s 454us/step - loss: 0.5375 - accuracy: 0.7396\n",
      "Epoch 69/100\n",
      "804/804 [==============================] - 0s 483us/step - loss: 0.5374 - accuracy: 0.7404\n",
      "Epoch 70/100\n",
      "804/804 [==============================] - 0s 543us/step - loss: 0.5376 - accuracy: 0.7399\n",
      "Epoch 71/100\n",
      "804/804 [==============================] - 0s 492us/step - loss: 0.5374 - accuracy: 0.7402\n",
      "Epoch 72/100\n",
      "804/804 [==============================] - 0s 459us/step - loss: 0.5370 - accuracy: 0.7405\n",
      "Epoch 73/100\n",
      "804/804 [==============================] - 0s 433us/step - loss: 0.5369 - accuracy: 0.7410\n",
      "Epoch 74/100\n",
      "804/804 [==============================] - 0s 436us/step - loss: 0.5373 - accuracy: 0.7400\n",
      "Epoch 75/100\n",
      "804/804 [==============================] - 0s 431us/step - loss: 0.5369 - accuracy: 0.7396\n",
      "Epoch 76/100\n",
      "804/804 [==============================] - 0s 445us/step - loss: 0.5371 - accuracy: 0.7399\n",
      "Epoch 77/100\n",
      "804/804 [==============================] - 0s 462us/step - loss: 0.5371 - accuracy: 0.7404\n",
      "Epoch 78/100\n",
      "804/804 [==============================] - 0s 466us/step - loss: 0.5375 - accuracy: 0.7402\n",
      "Epoch 79/100\n",
      "804/804 [==============================] - 0s 431us/step - loss: 0.5367 - accuracy: 0.7409\n",
      "Epoch 80/100\n",
      "804/804 [==============================] - 0s 431us/step - loss: 0.5367 - accuracy: 0.7402\n",
      "Epoch 81/100\n",
      "804/804 [==============================] - 0s 440us/step - loss: 0.5368 - accuracy: 0.7403\n",
      "Epoch 82/100\n",
      "804/804 [==============================] - 0s 510us/step - loss: 0.5363 - accuracy: 0.7407\n",
      "Epoch 83/100\n",
      "804/804 [==============================] - 0s 435us/step - loss: 0.5363 - accuracy: 0.7403\n",
      "Epoch 84/100\n",
      "804/804 [==============================] - 0s 429us/step - loss: 0.5363 - accuracy: 0.7404\n",
      "Epoch 85/100\n",
      "804/804 [==============================] - 0s 480us/step - loss: 0.5365 - accuracy: 0.7407\n",
      "Epoch 86/100\n",
      "804/804 [==============================] - 0s 431us/step - loss: 0.5363 - accuracy: 0.7409\n",
      "Epoch 87/100\n",
      "804/804 [==============================] - 0s 448us/step - loss: 0.5364 - accuracy: 0.7394\n",
      "Epoch 88/100\n",
      "804/804 [==============================] - 0s 441us/step - loss: 0.5360 - accuracy: 0.7400\n",
      "Epoch 89/100\n",
      "804/804 [==============================] - 0s 441us/step - loss: 0.5361 - accuracy: 0.7405\n",
      "Epoch 90/100\n",
      "804/804 [==============================] - 0s 442us/step - loss: 0.5362 - accuracy: 0.7395\n",
      "Epoch 91/100\n",
      "804/804 [==============================] - 0s 488us/step - loss: 0.5360 - accuracy: 0.7408\n",
      "Epoch 92/100\n",
      "804/804 [==============================] - 0s 434us/step - loss: 0.5362 - accuracy: 0.7406\n",
      "Epoch 93/100\n",
      "804/804 [==============================] - 0s 489us/step - loss: 0.5362 - accuracy: 0.7412\n",
      "Epoch 94/100\n",
      "804/804 [==============================] - 0s 438us/step - loss: 0.5359 - accuracy: 0.7406\n",
      "Epoch 95/100\n",
      "804/804 [==============================] - 0s 470us/step - loss: 0.5359 - accuracy: 0.7409\n",
      "Epoch 96/100\n",
      "804/804 [==============================] - 0s 448us/step - loss: 0.5362 - accuracy: 0.7411\n",
      "Epoch 97/100\n",
      "804/804 [==============================] - 0s 437us/step - loss: 0.5362 - accuracy: 0.7402\n",
      "Epoch 98/100\n",
      "804/804 [==============================] - 0s 447us/step - loss: 0.5359 - accuracy: 0.7398\n",
      "Epoch 99/100\n",
      "804/804 [==============================] - 0s 456us/step - loss: 0.5362 - accuracy: 0.7404\n",
      "Epoch 100/100\n",
      "804/804 [==============================] - 0s 454us/step - loss: 0.5360 - accuracy: 0.7401\n"
     ]
    }
   ],
   "source": [
    "# Train the model\n",
    "fit_model = nn.fit(X_train_scaled, y_train, epochs=100)\n"
   ]
  },
  {
   "cell_type": "code",
   "execution_count": 23,
   "metadata": {
    "colab": {
     "base_uri": "https://localhost:8080/"
    },
    "id": "oow-vL4g9nKg",
    "outputId": "01dc3160-c6c1-45d0-8ac4-f9ddf85c7f8c"
   },
   "outputs": [
    {
     "name": "stdout",
     "output_type": "stream",
     "text": [
      "268/268 - 0s - loss: 0.5565 - accuracy: 0.7244 - 120ms/epoch - 447us/step\n",
      "Loss: 0.5564635396003723, Accuracy: 0.7244315147399902\n"
     ]
    }
   ],
   "source": [
    "# Evaluate the model using the test data\n",
    "model_loss, model_accuracy = nn.evaluate(X_test_scaled,y_test,verbose=2)\n",
    "print(f\"Loss: {model_loss}, Accuracy: {model_accuracy}\")"
   ]
  },
  {
   "cell_type": "code",
   "execution_count": 24,
   "metadata": {
    "id": "mDiaFPKp9nKg"
   },
   "outputs": [
    {
     "name": "stderr",
     "output_type": "stream",
     "text": [
      "/Users/jiajialiu/anaconda3/lib/python3.11/site-packages/keras/src/engine/training.py:3103: UserWarning: You are saving your model as an HDF5 file via `model.save()`. This file format is considered legacy. We recommend using instead the native Keras format, e.g. `model.save('my_model.keras')`.\n",
      "  saving_api.save_model(\n"
     ]
    }
   ],
   "source": [
    "# Export our model to HDF5 file\n",
    "nn.save('AlphabetSoupCharity.h5')"
   ]
  }
 ],
 "metadata": {
  "colab": {
   "provenance": [],
   "toc_visible": true
  },
  "kernelspec": {
   "display_name": "Python 3 (ipykernel)",
   "language": "python",
   "name": "python3"
  },
  "language_info": {
   "codemirror_mode": {
    "name": "ipython",
    "version": 3
   },
   "file_extension": ".py",
   "mimetype": "text/x-python",
   "name": "python",
   "nbconvert_exporter": "python",
   "pygments_lexer": "ipython3",
   "version": "3.11.4"
  },
  "vscode": {
   "interpreter": {
    "hash": "31f2aee4e71d21fbe5cf8b01ff0e069b9275f58929596ceb00d14d90e3e16cd6"
   }
  }
 },
 "nbformat": 4,
 "nbformat_minor": 4
}
